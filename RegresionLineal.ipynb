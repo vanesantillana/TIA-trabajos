{
 "cells": [
  {
   "cell_type": "markdown",
   "metadata": {},
   "source": [
    "# Regresión Lineal\n",
    "### numpy y matplotlib"
   ]
  },
  {
   "cell_type": "code",
   "execution_count": 1,
   "metadata": {},
   "outputs": [],
   "source": [
    "import numpy as np\n",
    "import matplotlib.pyplot as plt\n"
   ]
  },
  {
   "cell_type": "code",
   "execution_count": 61,
   "metadata": {},
   "outputs": [
    {
     "data": {
      "text/plain": [
       "Text(4,9,'Y = 0.115 X + 6.412')"
      ]
     },
     "execution_count": 61,
     "metadata": {},
     "output_type": "execute_result"
    },
    {
     "data": {
      "image/png": "[encoded data removed]",
      "text/plain": [
       "<matplotlib.figure.Figure at 0x7f010058e048>"
      ]
     },
     "metadata": {},
     "output_type": "display_data"
    }
   ],
   "source": [
    "# X e Y serán el primer conjunto del cuarteto de Anscombe \n",
    "X = np.arange(1,19)\n",
    "Y = np.array([8, 6, 7, 8, 8, 9, 7, 4, 10, 4, 5 , 6, 8, 7, 8, 9 ,11, 10])\n",
    "\n",
    "# Calculamos los coeficientes del ajuste (a X + b)\n",
    "a, b = np.polyfit(X, Y, 1)\n",
    "# Calculamos el coeficiente de correlación\n",
    "r = np.corrcoef(X, Y)\n",
    "\n",
    "# Dibujamos los datos para poder visualizarlos y ver si sería lógico \n",
    "# considerar el ajuste usando un modelo lineal\n",
    "plt.plot(X, Y, 'o')\n",
    "plt.xlim(np.min(X) -1, np.max(X) +1)\n",
    "plt.ylim(np.min(Y) -1, np.max(Y) +1)\n",
    "plt.plot(X, a * X + b)\n",
    "plt.text(4, 10, 'r = {0:2.3f}'.format(r[0,1]))\n",
    "plt.text(4, 9, 'Y = {0:2.3f} X + {1:2.3f}'.format(a, b))"
   ]
  },
  {
   "cell_type": "code",
   "execution_count": 21,
   "metadata": {},
   "outputs": [
    {
     "name": "stdout",
     "output_type": "stream",
     "text": [
      "[ 1  2  3  4  5  6  7  8  9 10 11 12 13 14 15 16 17 18]\n",
      "[10 12  6 10  8  9 11 16 12  6 10  5  7  5 10 12 14 15]\n"
     ]
    }
   ],
   "source": [
    "X=np.arange(1,19)\n",
    "Y=np.array([10,12,6,10,8,9,11,16,12,6,10,5,7,5,10,12,14,15])\n",
    "print(X)\n",
    "print(Y)\n"
   ]
  },
  {
   "cell_type": "code",
   "execution_count": 51,
   "metadata": {},
   "outputs": [
    {
     "data": {
      "text/plain": [
       "[<matplotlib.lines.Line2D at 0x7f0100509eb8>]"
      ]
     },
     "execution_count": 51,
     "metadata": {},
     "output_type": "execute_result"
    },
    {
     "data": {
      "image/png": "[encoded data removed]",
      "text/plain": [
       "<matplotlib.figure.Figure at 0x7f0100588048>"
      ]
     },
     "metadata": {},
     "output_type": "display_data"
    }
   ],
   "source": [
    "plt.plot(X,Y,'bo')"
   ]
  },
  {
   "cell_type": "code",
   "execution_count": 29,
   "metadata": {},
   "outputs": [
    {
     "name": "stdout",
     "output_type": "stream",
     "text": [
      "9.5\n",
      "9.88888888888889\n"
     ]
    }
   ],
   "source": [
    "#Sacamos la media de X y Y\n",
    "mX=X.mean()\n",
    "mY=Y.mean()\n",
    "print(mX)\n",
    "print(mY)"
   ]
  },
  {
   "cell_type": "code",
   "execution_count": 43,
   "metadata": {},
   "outputs": [
    {
     "name": "stdout",
     "output_type": "stream",
     "text": [
      "XY^ = 96.66666666666667\n",
      "X^2 = 117.16666666666667\n"
     ]
    }
   ],
   "source": [
    "#media de X*Y y X^2\n",
    "mXY=(X*Y).mean()\n",
    "mX2=(X**2).mean()\n",
    "print(\"XY^ =\",mXY)\n",
    "print(\"X^2 =\",mX2)"
   ]
  },
  {
   "cell_type": "code",
   "execution_count": 38,
   "metadata": {},
   "outputs": [
    {
     "name": "stdout",
     "output_type": "stream",
     "text": [
      "a^= 0.10113519091847266\n",
      "m = 0.10113519091847287\n"
     ]
    }
   ],
   "source": [
    "# Calculamos ahat: y^=a^x + b^ -> b^= y^ - a^ x\n",
    "ahat = np.sum((X - mX) * (Y - mY)) / np.sum((X - mX)**2)\n",
    "print(\"a^=\",ahat)\n",
    "\n",
    "# Calculamos m de b=y^ - mx^\n",
    "m= (mX*mY - mXY)/(mX**2 - mX2)\n",
    "print(\"m =\",m)\n"
   ]
  },
  {
   "cell_type": "code",
   "execution_count": 44,
   "metadata": {},
   "outputs": [
    {
     "name": "stdout",
     "output_type": "stream",
     "text": [
      "b = 8.928104575163397\n"
     ]
    }
   ],
   "source": [
    "# Calculamos b\n",
    "b = mY - (m*mX)\n",
    "print(\"b =\",b)\n"
   ]
  },
  {
   "cell_type": "code",
   "execution_count": 47,
   "metadata": {},
   "outputs": [
    {
     "name": "stdout",
     "output_type": "stream",
     "text": [
      "a o m = 0.10113519091847253\n",
      "b = 8.928104575163399\n"
     ]
    }
   ],
   "source": [
    "#Calculamos los valores usando numpy.polyfit\n",
    "a_, b_ = np.polyfit(X, Y, 1)\n",
    "print(\"a o m =\",a_)\n",
    "print(\"b =\",b_)"
   ]
  },
  {
   "cell_type": "code",
   "execution_count": 52,
   "metadata": {},
   "outputs": [
    {
     "name": "stdout",
     "output_type": "stream",
     "text": [
      "[ 9.02923977  9.13037496  9.23151015  9.33264534  9.43378053  9.53491572\n",
      "  9.63605091  9.7371861   9.83832129  9.93945648 10.04059168 10.14172687\n",
      " 10.24286206 10.34399725 10.44513244 10.54626763 10.64740282 10.74853801]\n"
     ]
    }
   ],
   "source": [
    "# Hallamos yprima = m * x + b\n",
    "yprima = (m * X) + b\n",
    "print(yprima)\n"
   ]
  }
 ],
 "metadata": {
  "kernelspec": {
   "display_name": "Python 3",
   "language": "python",
   "name": "python3"
  },
  "language_info": {
   "codemirror_mode": {
    "name": "ipython",
    "version": 3
   },
   "file_extension": ".py",
   "mimetype": "text/x-python",
   "name": "python",
   "nbconvert_exporter": "python",
   "pygments_lexer": "ipython3",
   "version": "3.6.4"
  }
 },
 "nbformat": 4,
 "nbformat_minor": 2
}
