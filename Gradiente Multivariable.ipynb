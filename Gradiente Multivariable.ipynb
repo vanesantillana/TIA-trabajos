{
 "cells": [
  {
   "cell_type": "code",
   "execution_count": 3,
   "metadata": {},
   "outputs": [],
   "source": [
    "import numpy as np\n",
    "import matplotlib.pyplot as mpl"
   ]
  },
  {
   "cell_type": "code",
   "execution_count": 4,
   "metadata": {},
   "outputs": [],
   "source": [
    "#Funcion Costo Vectorizado\n",
    "def costoV(X,Y,theta):\n",
    "    costo = np.dot ((np.dot(X,theta) - Y).T,(np.dot(X,theta) - Y)) # (X*Theta -Y).T * (X*Theta -Y)\n",
    "    return costo / 2"
   ]
  },
  {
   "cell_type": "code",
   "execution_count": 5,
   "metadata": {},
   "outputs": [],
   "source": [
    "#Funcion Gradiente Vectorizada\n",
    "def gradienteV(X,Y,theta,alpha,num_iter):\n",
    "    for i in range(num_iter):\n",
    "        h_theta = (np.dot(X,theta) - Y)  #Vector Columna h_t = (X.Theta -Y)\n",
    "        tmp = h_theta * X                \n",
    "        gamma =  np.sum(tmp, axis=0).reshape(theta.shape[0],1) #Sum(h_t)*X\n",
    "        theta = theta - ((alpha/X.shape[0]) * gamma)\n",
    "        \n",
    "        \n",
    "    return theta"
   ]
  },
  {
   "cell_type": "code",
   "execution_count": 6,
   "metadata": {},
   "outputs": [
    {
     "name": "stdout",
     "output_type": "stream",
     "text": [
      "[[0.]\n",
      " [0.]]\n",
      "[1 2]\n",
      "[[-3.05280372]\n",
      " [ 1.55804155]]\n",
      "[[ 1.  1.]\n",
      " [ 1.  2.]\n",
      " [ 1.  3.]\n",
      " [ 1.  4.]\n",
      " [ 1.  5.]\n",
      " [ 1.  6.]\n",
      " [ 1.  7.]\n",
      " [ 1.  8.]\n",
      " [ 1.  9.]\n",
      " [ 1. 10.]\n",
      " [ 1. 11.]\n",
      " [ 1. 12.]\n",
      " [ 1. 13.]\n",
      " [ 1. 14.]\n",
      " [ 1. 15.]\n",
      " [ 1. 16.]\n",
      " [ 1. 17.]\n",
      " [ 1. 18.]]\n",
      "[[ 0]\n",
      " [ 0]\n",
      " [ 3]\n",
      " [ 3]\n",
      " [ 4]\n",
      " [ 4]\n",
      " [ 7]\n",
      " [10]\n",
      " [11]\n",
      " [11]\n",
      " [14]\n",
      " [14]\n",
      " [15]\n",
      " [18]\n",
      " [21]\n",
      " [24]\n",
      " [25]\n",
      " [26]]\n"
     ]
    },
    {
     "data": {
      "image/png": "[encoded data removed]",
      "text/plain": [
       "<matplotlib.figure.Figure at 0x7f5906ef6898>"
      ]
     },
     "metadata": {},
     "output_type": "display_data"
    }
   ],
   "source": [
    "#init: Creando una matriz pñantilla (2)\n",
    "X = np.ones((18,2))\n",
    "X[:,1] = np.arange(1,19)\n",
    "Y=np.array([0,0,3,3,4,4,7,10,11,11,14,14,15,18,21,24,25,26])\n",
    "Y = Y.reshape(len(Y),1)\n",
    "#theta = np.zeros(2).reshape((2,1))\n",
    "tamTheta = np.size(X,1)\n",
    "theta = np.zeros(tamTheta).reshape((tamTheta,1))\n",
    "print (theta)\n",
    "theta = gradienteV(X,Y,theta,0.0001,100000)\n",
    "#print (theta)\n",
    "#print (theta1)\n",
    "mpl.plot(X[:,1],Y,'o')\n",
    "mpl.plot(X[:,1],theta[1][0]*X[:,1]+theta[0][0])\n",
    "print(np.array([1,2]).T)\n",
    "print (theta)\n",
    "#print (Y)\n",
    "print (X)\n",
    "print (Y)\n"
   ]
  },
  {
   "cell_type": "code",
   "execution_count": null,
   "metadata": {},
   "outputs": [],
   "source": []
  }
 ],
 "metadata": {
  "kernelspec": {
   "display_name": "Python 3",
   "language": "python",
   "name": "python3"
  },
  "language_info": {
   "codemirror_mode": {
    "name": "ipython",
    "version": 3
   },
   "file_extension": ".py",
   "mimetype": "text/x-python",
   "name": "python",
   "nbconvert_exporter": "python",
   "pygments_lexer": "ipython3",
   "version": "3.6.4"
  }
 },
 "nbformat": 4,
 "nbformat_minor": 2
}
