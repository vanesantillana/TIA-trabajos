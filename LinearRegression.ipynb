{
  "nbformat": 4,
  "nbformat_minor": 0,
  "metadata": {
    "colab": {
      "name": "LinearRegression.ipynb",
      "version": "0.3.2",
      "views": {},
      "default_view": {},
      "provenance": []
    },
    "kernelspec": {
      "name": "python3",
      "display_name": "Python 3"
    }
  },
  "cells": [
    {
      "metadata": {
        "id": "N_8X26fOe6fu",
        "colab_type": "text"
      },
      "cell_type": "markdown",
      "source": [
        "# Linear Regression"
      ]
    },
    {
      "metadata": {
        "id": "XxkVmyQvgdY3",
        "colab_type": "text"
      },
      "cell_type": "markdown",
      "source": [
        "$$y= \\theta_0 +\\theta_1* x_1$$\n",
        "$$salary = \\theta_0+\\theta_1 * experience$$"
      ]
    },
    {
      "metadata": {
        "id": "eOdzK6ZOgwRs",
        "colab_type": "text"
      },
      "cell_type": "markdown",
      "source": [
        "## Ordinary Least Squares\n",
        "$$sum(y-\\hat{y})^2\\rightarrow min$$"
      ]
    },
    {
      "metadata": {
        "id": "LqH7k8HciK4I",
        "colab_type": "code",
        "colab": {
          "autoexec": {
            "startup": false,
            "wait_interval": 0
          }
        }
      },
      "cell_type": "code",
      "source": [
        "!pip install -U -q PyDrive\n",
        "from pydrive.auth import GoogleAuth\n",
        "from pydrive.drive import GoogleDrive\n",
        "from google.colab import auth\n",
        "from oauth2client.client import GoogleCredentials"
      ],
      "execution_count": 0,
      "outputs": []
    },
    {
      "metadata": {
        "id": "C2NiEfQvicnA",
        "colab_type": "code",
        "colab": {
          "autoexec": {
            "startup": false,
            "wait_interval": 0
          }
        }
      },
      "cell_type": "code",
      "source": [
        "auth.authenticate_user()\n",
        "gauth = GoogleAuth()\n",
        "gauth.credentials = GoogleCredentials.get_application_default()\n",
        "drive = GoogleDrive(gauth)"
      ],
      "execution_count": 0,
      "outputs": []
    },
    {
      "metadata": {
        "id": "U2m2t9P9irCx",
        "colab_type": "code",
        "colab": {
          "autoexec": {
            "startup": false,
            "wait_interval": 0
          }
        }
      },
      "cell_type": "code",
      "source": [
        "file_id = '1IaxvI7g5I68cCTbPt3gZWhpDUjkQgH0m'\n",
        "downloaded = drive.CreateFile({'id': file_id})\n",
        "downloaded = drive.CreateFile({'id':'1IaxvI7g5I68cCTbPt3gZWhpDUjkQgH0m'}) # replace the id with id of file you want to access\n",
        "downloaded.GetContentFile('Salary_Data.csv')  \n",
        "\n",
        "# Read file as panda dataframe\n",
        "import pandas as pd\n",
        "xyz = pd.read_csv('Salary_Data.csv') "
      ],
      "execution_count": 0,
      "outputs": []
    },
    {
      "metadata": {
        "id": "-PRbSSvzlJiK",
        "colab_type": "code",
        "colab": {
          "autoexec": {
            "startup": false,
            "wait_interval": 0
          },
          "output_extras": [
            {
              "item_id": 1
            }
          ],
          "base_uri": "https://localhost:8080/",
          "height": 125
        },
        "outputId": "2bc078b0-0c19-4fcb-85a9-08259cdcede2",
        "executionInfo": {
          "status": "ok",
          "timestamp": 1522089120083,
          "user_tz": 300,
          "elapsed": 425,
          "user": {
            "displayName": "José Eduardo Ochoa Luna",
            "photoUrl": "https://lh3.googleusercontent.com/a/default-user=s128",
            "userId": "118275491438101805860"
          }
        }
      },
      "cell_type": "code",
      "source": [
        "print(xyz.head())"
      ],
      "execution_count": 8,
      "outputs": [
        {
          "output_type": "stream",
          "text": [
            "   YearsExperience   Salary\n",
            "0              1.1  39343.0\n",
            "1              1.3  46205.0\n",
            "2              1.5  37731.0\n",
            "3              2.0  43525.0\n",
            "4              2.2  39891.0\n"
          ],
          "name": "stdout"
        }
      ]
    },
    {
      "metadata": {
        "id": "BzsSOtaug88Q",
        "colab_type": "text"
      },
      "cell_type": "markdown",
      "source": [
        "## Preprocessing Data\n"
      ]
    },
    {
      "metadata": {
        "id": "wWcbRcwVg1IH",
        "colab_type": "code",
        "colab": {
          "autoexec": {
            "startup": false,
            "wait_interval": 0
          },
          "output_extras": [
            {
              "item_id": 1
            }
          ],
          "base_uri": "https://localhost:8080/",
          "height": 53
        },
        "outputId": "f65a489f-8b2c-4295-e865-b7aaf09f3958",
        "executionInfo": {
          "status": "ok",
          "timestamp": 1522089162477,
          "user_tz": 300,
          "elapsed": 500,
          "user": {
            "displayName": "José Eduardo Ochoa Luna",
            "photoUrl": "https://lh3.googleusercontent.com/a/default-user=s128",
            "userId": "118275491438101805860"
          }
        }
      },
      "cell_type": "code",
      "source": [
        "#importing the libraries\n",
        "import numpy as np\n",
        "import matplotlib.pyplot as plt\n",
        "import pandas as pd\n",
        "\n",
        "# importing the dataset \n",
        "dataset = pd.read_csv('Salary_Data.csv')\n",
        "X = dataset.iloc[:,:-1].values\n",
        "y = dataset.iloc[:,1].values\n",
        "\n",
        "# splitting the dataset into training and test sets\n",
        "from sklearn.model_selection import train_test_split\n",
        "X_train, X_test, y_train, y_test = train_test_split(X,y, test_size=1/3, random_state = 0)\n",
        "print(X.shape)\n",
        "print(y.shape)\n",
        "# feature scaling\n",
        "#from sklearn.preprocessing import StandardScaler\n",
        "#sc_X = StandardScaler()\n",
        "#X_train = sc_X.fit_transform(X_train)\n",
        "#X_test = sc_X.transform(X_test)\"\"\"\n"
      ],
      "execution_count": 9,
      "outputs": [
        {
          "output_type": "stream",
          "text": [
            "(30, 1)\n",
            "(30,)\n"
          ],
          "name": "stdout"
        }
      ]
    },
    {
      "metadata": {
        "id": "udhLEohmhQkZ",
        "colab_type": "code",
        "colab": {
          "autoexec": {
            "startup": false,
            "wait_interval": 0
          },
          "output_extras": [
            {
              "item_id": 1
            }
          ],
          "base_uri": "https://localhost:8080/",
          "height": 35
        },
        "outputId": "1ff52ebd-251f-4acf-97af-7dcf4faa7c2c",
        "executionInfo": {
          "status": "ok",
          "timestamp": 1522089356315,
          "user_tz": 300,
          "elapsed": 432,
          "user": {
            "displayName": "José Eduardo Ochoa Luna",
            "photoUrl": "https://lh3.googleusercontent.com/a/default-user=s128",
            "userId": "118275491438101805860"
          }
        }
      },
      "cell_type": "code",
      "source": [
        "print(X_train.shape)"
      ],
      "execution_count": 10,
      "outputs": [
        {
          "output_type": "stream",
          "text": [
            "(20, 1)\n"
          ],
          "name": "stdout"
        }
      ]
    },
    {
      "metadata": {
        "id": "vgxxVDBymH8D",
        "colab_type": "text"
      },
      "cell_type": "markdown",
      "source": [
        "## Fitting Simple Linear Regression to the Training Set¶"
      ]
    },
    {
      "metadata": {
        "id": "2DSigjH_mQ02",
        "colab_type": "code",
        "colab": {
          "autoexec": {
            "startup": false,
            "wait_interval": 0
          },
          "output_extras": [
            {
              "item_id": 1
            }
          ],
          "base_uri": "https://localhost:8080/",
          "height": 53
        },
        "outputId": "1a5e396c-1a7b-4fc8-aa1b-6d5652c0d177",
        "executionInfo": {
          "status": "ok",
          "timestamp": 1522089420516,
          "user_tz": 300,
          "elapsed": 437,
          "user": {
            "displayName": "José Eduardo Ochoa Luna",
            "photoUrl": "https://lh3.googleusercontent.com/a/default-user=s128",
            "userId": "118275491438101805860"
          }
        }
      },
      "cell_type": "code",
      "source": [
        "from sklearn.linear_model import LinearRegression\n",
        "regressor = LinearRegression()\n",
        "regressor.fit(X_train,y_train)\n",
        "print(regressor.intercept_)\n",
        "print(regressor.coef_)"
      ],
      "execution_count": 11,
      "outputs": [
        {
          "output_type": "stream",
          "text": [
            "26816.192244031183\n",
            "[9345.94244312]\n"
          ],
          "name": "stdout"
        }
      ]
    },
    {
      "metadata": {
        "id": "0kySytMRmm1r",
        "colab_type": "text"
      },
      "cell_type": "markdown",
      "source": [
        "## Predicting the Test set results\n"
      ]
    },
    {
      "metadata": {
        "id": "9JGjGE43mo_b",
        "colab_type": "code",
        "colab": {
          "autoexec": {
            "startup": false,
            "wait_interval": 0
          }
        }
      },
      "cell_type": "code",
      "source": [
        "y_pred = regressor.predict(X_test)"
      ],
      "execution_count": 0,
      "outputs": []
    },
    {
      "metadata": {
        "id": "VhrpRRlumwMk",
        "colab_type": "code",
        "colab": {
          "autoexec": {
            "startup": false,
            "wait_interval": 0
          },
          "output_extras": [
            {
              "item_id": 1
            }
          ],
          "base_uri": "https://localhost:8080/",
          "height": 71
        },
        "outputId": "6aa73007-bca5-4786-d979-829f59a59b6e",
        "executionInfo": {
          "status": "ok",
          "timestamp": 1522089531173,
          "user_tz": 300,
          "elapsed": 434,
          "user": {
            "displayName": "José Eduardo Ochoa Luna",
            "photoUrl": "https://lh3.googleusercontent.com/a/default-user=s128",
            "userId": "118275491438101805860"
          }
        }
      },
      "cell_type": "code",
      "source": [
        "print(y_pred)"
      ],
      "execution_count": 13,
      "outputs": [
        {
          "output_type": "stream",
          "text": [
            "[ 40835.10590871 123079.39940819  65134.55626083  63265.36777221\n",
            " 115602.64545369 108125.8914992  116537.23969801  64199.96201652\n",
            "  76349.68719258 100649.1375447 ]\n"
          ],
          "name": "stdout"
        }
      ]
    },
    {
      "metadata": {
        "id": "D0sgkSB1myuL",
        "colab_type": "code",
        "colab": {
          "autoexec": {
            "startup": false,
            "wait_interval": 0
          },
          "output_extras": [
            {
              "item_id": 1
            }
          ],
          "base_uri": "https://localhost:8080/",
          "height": 89
        },
        "outputId": "39db8a69-3a96-40e6-c22a-17d7b45096e5",
        "executionInfo": {
          "status": "ok",
          "timestamp": 1522089542818,
          "user_tz": 300,
          "elapsed": 438,
          "user": {
            "displayName": "José Eduardo Ochoa Luna",
            "photoUrl": "https://lh3.googleusercontent.com/a/default-user=s128",
            "userId": "118275491438101805860"
          }
        }
      },
      "cell_type": "code",
      "source": [
        "print(y)"
      ],
      "execution_count": 14,
      "outputs": [
        {
          "output_type": "stream",
          "text": [
            "[ 39343.  46205.  37731.  43525.  39891.  56642.  60150.  54445.  64445.\n",
            "  57189.  63218.  55794.  56957.  57081.  61111.  67938.  66029.  83088.\n",
            "  81363.  93940.  91738.  98273. 101302. 113812. 109431. 105582. 116969.\n",
            " 112635. 122391. 121872.]\n"
          ],
          "name": "stdout"
        }
      ]
    },
    {
      "metadata": {
        "id": "dtn8C3LCm6Kc",
        "colab_type": "text"
      },
      "cell_type": "markdown",
      "source": [
        "## Visualising the Training set Results"
      ]
    },
    {
      "metadata": {
        "id": "KOZUHptmm7Dh",
        "colab_type": "code",
        "colab": {
          "autoexec": {
            "startup": false,
            "wait_interval": 0
          },
          "output_extras": [
            {
              "item_id": 1
            }
          ],
          "base_uri": "https://localhost:8080/",
          "height": 377
        },
        "outputId": "f02e5965-2ec9-4ba4-af63-b6dc3ebe2a31",
        "executionInfo": {
          "status": "ok",
          "timestamp": 1522089595994,
          "user_tz": 300,
          "elapsed": 454,
          "user": {
            "displayName": "José Eduardo Ochoa Luna",
            "photoUrl": "https://lh3.googleusercontent.com/a/default-user=s128",
            "userId": "118275491438101805860"
          }
        }
      },
      "cell_type": "code",
      "source": [
        "plt.scatter(X_train, y_train, color= 'red')\n",
        "plt.plot(X_train, regressor.predict(X_train), color='blue')\n",
        "plt.title('Salary vs Experience (Training set)')\n",
        "plt.xlabel('Years of Experience')\n",
        "plt.ylabel('Salary')\n",
        "plt.show()"
      ],
      "execution_count": 15,
      "outputs": [
        {
          "output_type": "display_data",
          "data": {
            "image/png": "[encoded data removed]",
            "text/plain": [
              "<matplotlib.figure.Figure at 0x7fd38db15710>"
            ]
          },
          "metadata": {
            "tags": []
          }
        }
      ]
    },
    {
      "metadata": {
        "id": "kyZwCDPonGH8",
        "colab_type": "text"
      },
      "cell_type": "markdown",
      "source": [
        "## Visualising the Test set Results"
      ]
    },
    {
      "metadata": {
        "id": "09apqWAfnHAc",
        "colab_type": "code",
        "colab": {
          "autoexec": {
            "startup": false,
            "wait_interval": 0
          },
          "output_extras": [
            {
              "item_id": 1
            }
          ],
          "base_uri": "https://localhost:8080/",
          "height": 893
        },
        "outputId": "ba7bdad3-9e4c-4e4e-f22a-64dbde6ffffb",
        "executionInfo": {
          "status": "ok",
          "timestamp": 1522089650208,
          "user_tz": 300,
          "elapsed": 676,
          "user": {
            "displayName": "José Eduardo Ochoa Luna",
            "photoUrl": "https://lh3.googleusercontent.com/a/default-user=s128",
            "userId": "118275491438101805860"
          }
        }
      },
      "cell_type": "code",
      "source": [
        "%matplotlib inline\n",
        "\n",
        "# larger graph \n",
        "width = 15\n",
        "height = 15\n",
        "plt.figure(figsize=(width, height))\n",
        "\n",
        "plt.scatter(X_test, y_test, color= 'red')\n",
        "plt.plot(X_train, regressor.predict(X_train), color='blue')\n",
        "plt.title('Salary vs Experience (Test set)')\n",
        "plt.xlabel('Years of Experience')\n",
        "plt.ylabel('Salary')\n",
        "plt.show()"
      ],
      "execution_count": 16,
      "outputs": [
        {
          "output_type": "display_data",
          "data": {
            "image/png": "[encoded data removed]",
            "text/plain": [
              "<matplotlib.figure.Figure at 0x7fd38db86ba8>"
            ]
          },
          "metadata": {
            "tags": []
          }
        }
      ]
    },
    {
      "metadata": {
        "id": "e5WC6g4EnasF",
        "colab_type": "text"
      },
      "cell_type": "markdown",
      "source": [
        "## Normal Equation"
      ]
    },
    {
      "metadata": {
        "id": "c71ev8zsnb0V",
        "colab_type": "code",
        "colab": {
          "autoexec": {
            "startup": false,
            "wait_interval": 0
          }
        }
      },
      "cell_type": "code",
      "source": [
        "theta  = np.zeros((2))\n",
        "ones = np.ones(X_train.shape)\n",
        "X_train_one = np.concatenate((ones, X_train), axis=1)\n",
        "inv_x = np.linalg.inv(np.dot(X_train_one.T,X_train_one))"
      ],
      "execution_count": 0,
      "outputs": []
    },
    {
      "metadata": {
        "id": "M7Aj8hAbnk3c",
        "colab_type": "code",
        "colab": {
          "autoexec": {
            "startup": false,
            "wait_interval": 0
          }
        }
      },
      "cell_type": "code",
      "source": [
        "theta_2 = np.dot(np.dot(inv_x, X_train_one.T),y_train)"
      ],
      "execution_count": 0,
      "outputs": []
    },
    {
      "metadata": {
        "id": "uiITrlSQnlrs",
        "colab_type": "code",
        "colab": {
          "autoexec": {
            "startup": false,
            "wait_interval": 0
          },
          "output_extras": [
            {
              "item_id": 1
            }
          ],
          "base_uri": "https://localhost:8080/",
          "height": 35
        },
        "outputId": "1352f285-097a-4d90-c5fe-8f98b18b124f",
        "executionInfo": {
          "status": "ok",
          "timestamp": 1522089867989,
          "user_tz": 300,
          "elapsed": 448,
          "user": {
            "displayName": "José Eduardo Ochoa Luna",
            "photoUrl": "https://lh3.googleusercontent.com/a/default-user=s128",
            "userId": "118275491438101805860"
          }
        }
      },
      "cell_type": "code",
      "source": [
        "print(theta_2)"
      ],
      "execution_count": 21,
      "outputs": [
        {
          "output_type": "stream",
          "text": [
            "[26816.19224403  9345.94244312]\n"
          ],
          "name": "stdout"
        }
      ]
    },
    {
      "metadata": {
        "id": "C1I8DYUUo4Ne",
        "colab_type": "code",
        "colab": {
          "autoexec": {
            "startup": false,
            "wait_interval": 0
          }
        }
      },
      "cell_type": "code",
      "source": [
        ""
      ],
      "execution_count": 0,
      "outputs": []
    }
  ]
}